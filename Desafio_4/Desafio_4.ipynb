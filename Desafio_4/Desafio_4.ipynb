{
 "cells": [
  {
   "cell_type": "markdown",
   "id": "c61aa0a7",
   "metadata": {},
   "source": [
    "Você trabalha em uma empresa de venda de serviços de alto valor agregado e seus clientes têm um prazo de 30 dias para efetuarem o pagamento.\n",
    "\n",
    "Acontece que, como em quase toda empresa, nem sempre os clientes pagam a quantia na data acordada ou nem sempre quitam o valor por completo. Logo, esses clientes são considerados inadimplentes.\n",
    "\n",
    "A equipe do setor financeiro que faz o controle com o valor devido de cada cliente reparou que os números de inadimplência vem crescendo nos últimos meses.\n",
    "\n",
    "Todos os dias, uma nova planilha dessa é gerada com os clientes que se tornaram inadimplentes naquele dia e a equipe de atendimento ao cliente precisa entrar em contato, por e-mail, com cada cliente inadimplente para os enviar o boleto com a fatura.\n",
    "\n",
    "Acontece que esse processo é todo feito pelo site do PagSeguro e é bem repetitivo. E tudo que é repetitivo pode ser automatizado.\n",
    "\n",
    "Portanto, cabe a você automatizar esse processo, lembrando que as cobranças são feitas pelo PagSeguro e as pessoas inadimplentes estão numa base excel."
   ]
  }
 ],
 "metadata": {
  "language_info": {
   "name": "python"
  }
 },
 "nbformat": 4,
 "nbformat_minor": 5
}
