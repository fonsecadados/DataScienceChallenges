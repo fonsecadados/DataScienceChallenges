{
 "cells": [
  {
   "cell_type": "markdown",
   "id": "b6762756",
   "metadata": {},
   "source": [
    "Você trabalha em uma grande empresa de Cartão de Crédito e o diretor da empresa percebeu que o número de clientes que cancelam seus cartões tem aumentado significativamente, causando prejuízos enormes para a empresa.\n",
    "\n",
    "O que fazer para evitar isso? Como saber as pessoas que têm maior tendência a cancelar o cartão?\n",
    "\n",
    "A única informação que você possui é uma base de dados com informações dos clientes, tanto clientes atuais quanto os clientes que cancelaram o cartão."
   ]
  }
 ],
 "metadata": {
  "language_info": {
   "name": "python"
  }
 },
 "nbformat": 4,
 "nbformat_minor": 5
}
